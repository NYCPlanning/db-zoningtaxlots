{
 "cells": [
  {
   "cell_type": "markdown",
   "metadata": {},
   "source": [
    "# Zoningtaxlots QAQC\n",
    "\n",
    "### Objectives:\n",
    "+ Combine `qc_versioncomparison.csv` with `qc_versioncomparisonnownullcount.csv`; sort by field name. (Resulting report will show __if the value changed to a different value or to/from a null value__).\n",
    "+ Add a __difference__ column to `qc_frequencychanges.csv`; sort by field name.\n",
    "+ Add two fields to the BBL diff report\n",
    "    + Flag indicating that __lot intersects with a rezoning done since the last version__\n",
    "    + Flag indicating that __the area of the lot (taken from DTM) has changed by more than +/- 10% since the last version__\n",
    "+ Rename fields in BBL diff report for the fields showing the new data, using similar naming convention as used for previous data set, e.g., ZD1NEW."
   ]
  },
  {
   "cell_type": "code",
   "execution_count": 38,
   "metadata": {},
   "outputs": [
    {
     "name": "stdout",
     "output_type": "stream",
     "text": [
      "09/13/2019 19:57:18\n"
     ]
    }
   ],
   "source": [
    "import geopandas as gpd\n",
    "import pandas as pd\n",
    "import cartoframes\n",
    "import os\n",
    "from cartoframes.auth import Credentials\n",
    "from cartoframes.viz import Map, Layer\n",
    "from sqlalchemy import create_engine\n",
    "from dotenv import load_dotenv, find_dotenv\n",
    "from pathlib import Path\n",
    "import time\n",
    "from shapely.wkb import dumps, loads\n",
    "from shapely.wkt import loads as wkt_loads \n",
    "\n",
    "pd.set_option('display.max_columns', 500)\n",
    "print(time.strftime(\"%m/%d/%Y %H:%M:%S\"))"
   ]
  },
  {
   "cell_type": "code",
   "execution_count": 41,
   "metadata": {},
   "outputs": [
    {
     "name": "stdout",
     "output_type": "stream",
     "text": [
      "The dotenv extension is already loaded. To reload it, use:\n",
      "  %reload_ext dotenv\n"
     ]
    }
   ],
   "source": [
    "%load_ext dotenv\n",
    "%dotenv ../.env\n",
    "credentials = Credentials(username=os.getenv('CARTO_USERNAME'), \n",
    "                          key=os.getenv('CARTO_KEY'))\n",
    "cc = cartoframes.CartoContext(creds=credentials)"
   ]
  },
  {
   "cell_type": "code",
   "execution_count": null,
   "metadata": {},
   "outputs": [],
   "source": [
    "conn = create_engine(os.getenv('BUILD_ENGINE').replace('localhost', os.getenv('IP')))"
   ]
  },
  {
   "cell_type": "code",
   "execution_count": 11,
   "metadata": {},
   "outputs": [],
   "source": [
    "recipe_conn = create_engine(os.getenv('RECIPE_ENGINE'))"
   ]
  },
  {
   "cell_type": "code",
   "execution_count": null,
   "metadata": {},
   "outputs": [],
   "source": [
    "query = '''\n",
    "select field, count as diff_count, \n",
    "percent as diff_percent,  \n",
    "        newnullcount, oldnullcount, \n",
    "        countnew as total_count_new, \n",
    "        countold as total_count_old, \n",
    "        (countnew-countold) as total_count_diff \n",
    "from(\n",
    "    SELECT * FROM\n",
    "        ztl_qc_versioncomparisoncount a \n",
    "    JOIN \n",
    "        ztl_qc_versioncomparisonnownullcount b\n",
    "    USING (field)) c\n",
    "JOIN\n",
    "frequencychanges d\n",
    "USING (field)\n",
    "ORDER BY field;\n",
    "'''\n",
    "df_versioncomparison = pd.read_sql(sql=query, con=conn)\n",
    "df_versioncomparison"
   ]
  },
  {
   "cell_type": "code",
   "execution_count": null,
   "metadata": {},
   "outputs": [],
   "source": [
    "query = '''\n",
    "SELECT bblnew, bblprev, \n",
    "        zd1new, zd1prev, zd2new, zd2prev, zd3new, zd3prev, zd4new, zd4prev, \n",
    "        zmcnew, zmcprev, zmnnew, zmnprev, \n",
    "        co1new, co1prev, co2new, co2prev, \n",
    "        sd1new, sd1prev, sd2new, sd2prev, sd3new, sd3prev, \n",
    "        lhdnew, lhdprev, \n",
    "        inzonechange, mihflag, mihoption, \n",
    "        geom from bbldiffs;\n",
    "'''\n",
    "bbldiffs = gpd.GeoDataFrame.from_postgis(sql=query, con=conn)\n",
    "bbldiffs"
   ]
  },
  {
   "cell_type": "code",
   "execution_count": null,
   "metadata": {},
   "outputs": [],
   "source": [
    "cc.write(bbldiffs, 'ztl_qaqc_bbldiff')"
   ]
  },
  {
   "cell_type": "code",
   "execution_count": 12,
   "metadata": {},
   "outputs": [],
   "source": [
    "version_old = '2019/08/23'\n",
    "version_new = '2019/09/03'"
   ]
  },
  {
   "cell_type": "code",
   "execution_count": 16,
   "metadata": {},
   "outputs": [],
   "source": [
    "query = f'''\n",
    "with dtm_compare as (\n",
    "    SELECT bbl, geom_new, geom_old, (case when geom_new = geom_old then 0 else 1 end) flag \n",
    "    FROM \n",
    "    (SELECT bbl, ST_Multi(ST_Union(f.wkb_geometry)) as geom_new \n",
    "        FROM dof_dtm.\"{version_new}\" f GROUP BY bbl ) a\n",
    "    JOIN \n",
    "    (SELECT bbl, ST_Multi(ST_Union(f.wkb_geometry)) as geom_old \n",
    "        FROM dof_dtm.\"{version_old}\" f GROUP BY bbl ) b\n",
    "    USING(bbl))\n",
    ", changed as (\n",
    "    SELECT *, (st_area(geom_new)-st_area(geom_old))/st_area(geom_old) as area_diff \n",
    "    FROM dtm_compare\n",
    "    WHERE flag = 1)\n",
    "SELECT * FROM changed WHERE area_diff > 0.1 OR area_diff < -0.1;\n",
    "'''"
   ]
  },
  {
   "cell_type": "code",
   "execution_count": 17,
   "metadata": {},
   "outputs": [],
   "source": [
    "bbl_areachange = gpd.GeoDataFrame.from_postgis(sql=query, con=recipe_conn, geom_col='geom_new')"
   ]
  },
  {
   "cell_type": "code",
   "execution_count": 18,
   "metadata": {},
   "outputs": [],
   "source": [
    "bbl_areachange_new = bbl_areachange[['bbl', 'geom_new', 'area_diff']]"
   ]
  },
  {
   "cell_type": "code",
   "execution_count": 60,
   "metadata": {},
   "outputs": [],
   "source": [
    "bbl_areachange_old = bbl_areachange[['bbl', 'geom_old', 'area_diff']]\n",
    "bbl_areachange_old.loc[:, 'geom_old'] = bbl_areachange_old['geom_old'].apply(lambda x: wkt_loads(loads(x,  hex=True).wkt))\n",
    "bbl_areachange_old=gpd.GeoDataFrame(bbl_areachange_old, geometry='geom_old')"
   ]
  },
  {
   "cell_type": "code",
   "execution_count": 144,
   "metadata": {},
   "outputs": [],
   "source": [
    "from ipyleaflet import Map, basemaps, GeoData, basemap_to_tiles, LayersControl, FullScreenControl, Popup, Marker\n",
    "from ipywidgets import HTML\n",
    "\n",
    "m = Map(center=(40.730610, -73.935242), zoom=11)\n",
    "\n",
    "dark_matter_layer = basemap_to_tiles(basemaps.CartoDB.DarkMatter, close_popup_on_click=True)\n",
    "m.add_layer(dark_matter_layer)"
   ]
  },
  {
   "cell_type": "code",
   "execution_count": 145,
   "metadata": {},
   "outputs": [],
   "source": [
    "new = GeoData(geo_dataframe = bbl_areachange_new, \n",
    "              style={'color': 'green', 'opacity':10, 'weight':1.9, 'dashArray':'2', 'fillOpacity':0.3},\n",
    "              name = 'new')\n",
    "\n",
    "old = GeoData(geo_dataframe = bbl_areachange_old, \n",
    "              style={'color': 'red', 'opacity':10, 'weight':1.9, 'dashArray':'2', 'fillOpacity':0.3}, \n",
    "              name = 'old')"
   ]
  },
  {
   "cell_type": "code",
   "execution_count": 146,
   "metadata": {},
   "outputs": [],
   "source": [
    "m.add_layer(new)\n",
    "m.add_layer(old)\n",
    "m.add_control(LayersControl())\n",
    "m.add_control(FullScreenControl())"
   ]
  },
  {
   "cell_type": "code",
   "execution_count": 147,
   "metadata": {},
   "outputs": [],
   "source": [
    "for i in range(bbl_areachange_new.shape[0]):\n",
    "    center = (bbl_areachange_new.loc[i, 'geom_new'].centroid.y,\n",
    "              bbl_areachange_new.loc[i, 'geom_new'].centroid.x)\n",
    "    bbl = str(list(bbl_areachange_new['bbl'])[i])\n",
    "    area_change = round(list(bbl_areachange_new['area_diff'])[i]*100, 2)\n",
    "    marker = Marker(location=center)\n",
    "    m.add_layer(marker)\n",
    "    marker.popup = HTML(value=f'bbl: {bbl}, area change: {area_change}%')"
   ]
  },
  {
   "cell_type": "code",
   "execution_count": 148,
   "metadata": {},
   "outputs": [
    {
     "data": {
      "application/vnd.jupyter.widget-view+json": {
       "model_id": "7828f4685fe040da99286f243eaa63d1",
       "version_major": 2,
       "version_minor": 0
      },
      "text/plain": [
       "Map(basemap={'url': 'https://{s}.tile.openstreetmap.org/{z}/{x}/{y}.png', 'max_zoom': 19, 'attribution': 'Map …"
      ]
     },
     "metadata": {},
     "output_type": "display_data"
    }
   ],
   "source": [
    "m"
   ]
  },
  {
   "cell_type": "code",
   "execution_count": null,
   "metadata": {},
   "outputs": [],
   "source": []
  }
 ],
 "metadata": {
  "kernelspec": {
   "display_name": "Python 3",
   "language": "python",
   "name": "python3"
  },
  "language_info": {
   "codemirror_mode": {
    "name": "ipython",
    "version": 3
   },
   "file_extension": ".py",
   "mimetype": "text/x-python",
   "name": "python",
   "nbconvert_exporter": "python",
   "pygments_lexer": "ipython3",
   "version": "3.7.3"
  }
 },
 "nbformat": 4,
 "nbformat_minor": 4
}
